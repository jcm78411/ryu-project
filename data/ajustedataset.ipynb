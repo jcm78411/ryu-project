{
 "cells": [
  {
   "cell_type": "code",
   "execution_count": 1,
   "id": "3177173a",
   "metadata": {},
   "outputs": [],
   "source": [
    "import pandas as pd\n",
    "import numpy as np"
   ]
  },
  {
   "cell_type": "code",
   "execution_count": 2,
   "id": "6966d42a",
   "metadata": {},
   "outputs": [],
   "source": [
    "df = pd.read_csv('datos_red.csv')\n",
    "# df = df.drop(columns=['congestion'])\n",
    "# df.to_csv('datos_red.csv', index=False)"
   ]
  },
  {
   "cell_type": "code",
   "execution_count": 7,
   "id": "2f0ed063",
   "metadata": {},
   "outputs": [],
   "source": [
    "# cols = df.columns.tolist()  # Lista de todas las columnas\n",
    "# start_row = 2\n",
    "\n",
    "# # Recorremos desde la fila 24506 en adelante\n",
    "# for i in range(start_row, len(df)):\n",
    "#     row = df.loc[i, cols].values  # Convertir fila a array de valores\n",
    "#     row = [val for val in row if val != df.loc[i, 'congestion']]  # Quitar el valor de 'tx_bytes'\n",
    "#     row.append(None)  # Agregamos None al final para conservar el tamaño de columnas\n",
    "#     df.loc[i, cols] = row  # Reasignamos la fila\n",
    "\n",
    "# # -----------------------------------------------------------------------------------------------------------------------\n",
    "# df = df.drop(columns=['congestion'])\n",
    "# df.to_csv('datos_red.csv', index=False)"
   ]
  },
  {
   "cell_type": "code",
   "execution_count": 8,
   "id": "89dd2103",
   "metadata": {},
   "outputs": [],
   "source": [
    "# fila = 29505\n",
    "\n",
    "# # Eliminar la fila específica del DataFrame\n",
    "# df = df.drop(index=fila)\n",
    "\n",
    "# # Guardar el DataFrame actualizado en un archivo CSV\n",
    "# df.to_csv('datos_red.csv', index=False)\n"
   ]
  },
  {
   "cell_type": "code",
   "execution_count": 9,
   "id": "83653b98",
   "metadata": {},
   "outputs": [],
   "source": [
    "# porcentaje = 100\n",
    "\n",
    "# indices_latencia_0 = df[df['latencia'] == 0].index\n",
    "# cantidad_a_reemplazar = int(len(indices_latencia_0) * (porcentaje / 100))\n",
    "# indices_a_reemplazar = np.random.choice(indices_latencia_0, cantidad_a_reemplazar, replace=False)\n",
    "# df.loc[indices_a_reemplazar, 'latencia'] = 9999\n",
    "\n",
    "# porcentaje1 = 19\n",
    "# porcentaje2 = 34\n",
    "# numero_1_a_eliminar = 5\n",
    "# numero_2_a_eliminar = 6\n",
    "\n",
    "# filas_con_numero_1 = df[df['latencia'] == numero_1_a_eliminar]\n",
    "# filas_con_numero_2 = df[df['latencia'] == numero_2_a_eliminar]\n",
    "\n",
    "# n_eliminar1 = int(len(filas_con_numero_1) * (porcentaje1 / 100))\n",
    "# n_eliminar2 = int(len(filas_con_numero_2) * (porcentaje2 / 100))\n",
    "\n",
    "# filas_a_eliminar1 = filas_con_numero_1.sample(n=n_eliminar1, random_state=1)\n",
    "# df = df.drop(filas_a_eliminar1.index)\n",
    "\n",
    "# filas_a_eliminar2 = filas_con_numero_2.sample(n=n_eliminar2, random_state=1)\n",
    "# df = df.drop(filas_a_eliminar2.index)\n",
    "\n",
    "# print(f\"Se eliminaron {n_eliminar1} filas donde '{'latencia'}' es igual a {numero_1_a_eliminar}.\")\n",
    "# print(f\"Se eliminaron {n_eliminar2} filas donde '{'latencia'}' es igual a {numero_2_a_eliminar}.\")"
   ]
  },
  {
   "cell_type": "code",
   "execution_count": 3,
   "id": "6466312d",
   "metadata": {},
   "outputs": [],
   "source": [
    "df.rename(columns={'latencia': 'latency'}, inplace=True)"
   ]
  },
  {
   "cell_type": "code",
   "execution_count": 4,
   "id": "ab96298e",
   "metadata": {},
   "outputs": [
    {
     "name": "stdout",
     "output_type": "stream",
     "text": [
      "'Timestamp' no encontrado! proceder a ignorar ==>.\n"
     ]
    }
   ],
   "source": [
    "df['latency'] = df['latency'].astype(int)\n",
    "df_backup = df.copy()\n",
    "\n",
    "if 'timestamp' in df_backup.columns:\n",
    "    print(\"'Timestamp' encontrado! proceder a borrar ==>.\")\n",
    "    df_clean = df_backup.drop(columns=['timestamp'])\n",
    "else:\n",
    "    print(\"'Timestamp' no encontrado! proceder a ignorar ==>.\")\n",
    "    df_clean = df_backup.copy()\n",
    "\n",
    "def clasificar_congestion(latencia):\n",
    "    if latencia <= 199:\n",
    "        return 0\n",
    "    elif latencia >= 200:\n",
    "        return 1\n",
    "\n",
    "df_backup['congestion'] = df_backup['latency'].apply(clasificar_congestion)\n",
    "df_clean['congestion'] = df_backup['congestion']\n",
    "\n",
    "df_clean.to_csv('datos_red_limpios.csv', index=False)"
   ]
  },
  {
   "cell_type": "code",
   "execution_count": 5,
   "id": "2345f6e9",
   "metadata": {},
   "outputs": [
    {
     "name": "stdout",
     "output_type": "stream",
     "text": [
      "Valores entre 1 y 199:-------> 32475\n",
      "Valores entre 200 y 5000:----> 9840\n",
      "Valores de mas de 9000: 2323\n",
      "\n",
      "------------------------------------------------------\n",
      "Casos de congestión: 12143\n"
     ]
    }
   ],
   "source": [
    "valores_iguales_0 = df_clean[df_clean['latency'] == 0].shape[0]\n",
    "valores_entre_1_y_199 = df_clean[(df_clean['latency'] > 0) & (df_clean['latency'] <= 199)].shape[0]\n",
    "valores_entre_200_y_5000 = df_clean[(df_clean['latency'] >= 200) & (df_clean['latency'] <= 8000)].shape[0]\n",
    "valores_mayores_9000 = df_clean[df_clean['latency'] > 9000].shape[0]\n",
    "\n",
    "casos_de_congestion = df_clean[df_clean['latency'] > 200].shape[0]\n",
    "\n",
    "print(f\"Valores entre 1 y 199:-------> {valores_entre_1_y_199}\")\n",
    "print(f\"Valores entre 200 y 5000:----> {valores_entre_200_y_5000}\")\n",
    "print(f\"Valores de mas de 9000: {valores_mayores_9000}\")\n",
    "print(f\"\\n------------------------------------------------------\")\n",
    "print(f\"Casos de congestión: {casos_de_congestion}\")\n"
   ]
  },
  {
   "cell_type": "code",
   "execution_count": 12,
   "id": "182f28d3",
   "metadata": {},
   "outputs": [],
   "source": [
    "# frecuencias = df_clean['latencia'].value_counts()\n",
    "# frecuencias.reset_index().rename(columns={'index': 'Latencia', 'latencia': 'Frecuencia'}).head(5).sort_index(ascending=True)"
   ]
  },
  {
   "cell_type": "code",
   "execution_count": 13,
   "id": "583d8ceb",
   "metadata": {},
   "outputs": [],
   "source": [
    "# valores_unicos = df['latencia'].unique()\n",
    "\n",
    "# sorted(valores_unicos, reverse=True)[:10]"
   ]
  }
 ],
 "metadata": {
  "kernelspec": {
   "display_name": ".venv",
   "language": "python",
   "name": "python3"
  },
  "language_info": {
   "codemirror_mode": {
    "name": "ipython",
    "version": 3
   },
   "file_extension": ".py",
   "mimetype": "text/x-python",
   "name": "python",
   "nbconvert_exporter": "python",
   "pygments_lexer": "ipython3",
   "version": "3.8.10"
  }
 },
 "nbformat": 4,
 "nbformat_minor": 5
}
